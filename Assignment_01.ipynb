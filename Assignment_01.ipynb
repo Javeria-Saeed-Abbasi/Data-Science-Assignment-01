{
 "cells": [
  {
   "cell_type": "code",
   "execution_count": 1,
   "id": "0ca2b40a",
   "metadata": {},
   "outputs": [
    {
     "name": "stdout",
     "output_type": "stream",
     "text": [
      "1.Print following string in a specific format:  \n",
      "   \n",
      "   Twinkle, twinkle, little star,\n",
      "            How I wonder what you are!\n",
      "                    Up above the world so high,\n",
      "                    Like a diamond in the sky.\n",
      "   Twinkle, twinkle, little star,\n",
      "            How I wonder what you are\n"
     ]
    }
   ],
   "source": [
    "a = \"1.Print following string in a specific format:\"\n",
    "x = ''' \n",
    "   \n",
    "   Twinkle, twinkle, little star,\n",
    "            How I wonder what you are!\n",
    "                    Up above the world so high,\n",
    "                    Like a diamond in the sky.\n",
    "   Twinkle, twinkle, little star,\n",
    "            How I wonder what you are'''\n",
    "\n",
    "print (a, x);"
   ]
  },
  {
   "cell_type": "code",
   "execution_count": 2,
   "id": "9ab4ac2a",
   "metadata": {},
   "outputs": [
    {
     "name": "stdout",
     "output_type": "stream",
     "text": [
      "2. Write Program to get python version you are using: \n",
      "\n",
      " Python version\n",
      "3.9.7 (default, Sep 16 2021, 16:59:28) [MSC v.1916 64 bit (AMD64)]\n"
     ]
    }
   ],
   "source": [
    "a = \"2. Write Program to get python version you are using: \\n\\n\"\n",
    "import sys\n",
    "print(a,\"Python version\")\n",
    "print (sys.version)\n"
   ]
  },
  {
   "cell_type": "code",
   "execution_count": 3,
   "id": "d4a32415",
   "metadata": {},
   "outputs": [
    {
     "name": "stdout",
     "output_type": "stream",
     "text": [
      "3. Display Current date and time using python: \n",
      "\n",
      " 2021-12-29 \n",
      " 22:44:59\n"
     ]
    }
   ],
   "source": [
    "a = \"3. Display Current date and time using python: \\n\\n\"\n",
    "from datetime import datetime\n",
    "now = datetime.now()\n",
    "print(a, now.strftime(\"%Y-%m-%d \\n %H:%M:%S\"))\n"
   ]
  },
  {
   "cell_type": "code",
   "execution_count": 4,
   "id": "b6cd1897",
   "metadata": {},
   "outputs": [
    {
     "name": "stdout",
     "output_type": "stream",
     "text": [
      "4. Write a program in python which accepts radius of circle from user and compute the area: \n",
      "\n",
      "Input the radius of the circle : 3\n",
      "The area of the circle with radius 3.0 is: 28.274333882308138\n"
     ]
    }
   ],
   "source": [
    "a = \"4. Write a program in python which accepts radius of circle from user and compute the area: \\n\"\n",
    "print(a);\n",
    "from math import pi\n",
    "r = float(input (\"Input the radius of the circle : \"))\n",
    "print (\"The area of the circle with radius \" + str(r) + \" is: \" + str(pi * r**2))\n"
   ]
  },
  {
   "cell_type": "code",
   "execution_count": 7,
   "id": "fd2d3de7",
   "metadata": {},
   "outputs": [
    {
     "name": "stdout",
     "output_type": "stream",
     "text": [
      "4. Write a python program which accepts the user first and last name and print them in reverse order: \n",
      "\n",
      "Input your First Name : javeria\n",
      "Input your Last Name : saeed\n",
      "saeed javeria\n"
     ]
    }
   ],
   "source": [
    "a = \"4. Write a python program which accepts the user first and last name and print them in reverse order: \\n\"\n",
    "print(a);\n",
    "first_name = input(\"Input your First Name : \")\n",
    "last_name = input(\"Input your Last Name : \")\n",
    "print(last_name + \" \" + first_name);"
   ]
  },
  {
   "cell_type": "code",
   "execution_count": 19,
   "id": "723e9434",
   "metadata": {},
   "outputs": [
    {
     "name": "stdout",
     "output_type": "stream",
     "text": [
      "5. Write a python program which takes two inputs from user and print them addition: \n",
      "\n",
      "Enter your first number 3\n",
      "Enter your second number 3\n",
      "6\n"
     ]
    }
   ],
   "source": [
    "a = \"5. Write a python program which takes two inputs from user and print them addition: \\n\"\n",
    "print(a);\n",
    "x = int(input(\"Enter your first number \"));\n",
    "y = int(input(\"Enter your second number \"));\n",
    "z = x + y;\n",
    "print (z);\n",
    "\n",
    "\n"
   ]
  },
  {
   "cell_type": "code",
   "execution_count": null,
   "id": "45743bab",
   "metadata": {},
   "outputs": [],
   "source": []
  },
  {
   "cell_type": "code",
   "execution_count": null,
   "id": "c5562f3a",
   "metadata": {},
   "outputs": [],
   "source": []
  },
  {
   "cell_type": "code",
   "execution_count": null,
   "id": "00009e58",
   "metadata": {},
   "outputs": [],
   "source": []
  },
  {
   "cell_type": "code",
   "execution_count": null,
   "id": "7d697043",
   "metadata": {},
   "outputs": [],
   "source": []
  },
  {
   "cell_type": "code",
   "execution_count": null,
   "id": "064b3e0f",
   "metadata": {},
   "outputs": [],
   "source": []
  },
  {
   "cell_type": "code",
   "execution_count": null,
   "id": "4f02604b",
   "metadata": {},
   "outputs": [],
   "source": []
  }
 ],
 "metadata": {
  "kernelspec": {
   "display_name": "Python 3 (ipykernel)",
   "language": "python",
   "name": "python3"
  },
  "language_info": {
   "codemirror_mode": {
    "name": "ipython",
    "version": 3
   },
   "file_extension": ".py",
   "mimetype": "text/x-python",
   "name": "python",
   "nbconvert_exporter": "python",
   "pygments_lexer": "ipython3",
   "version": "3.9.7"
  }
 },
 "nbformat": 4,
 "nbformat_minor": 5
}
